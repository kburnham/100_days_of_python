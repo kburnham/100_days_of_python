{
 "cells": [
  {
   "cell_type": "code",
   "execution_count": 1,
   "id": "d5973552-5888-4690-a8c5-48234c4ba6ac",
   "metadata": {},
   "outputs": [],
   "source": [
    "import os\n"
   ]
  },
  {
   "cell_type": "code",
   "execution_count": 2,
   "id": "9784aebe-2245-4fa6-9555-291407b5b222",
   "metadata": {},
   "outputs": [
    {
     "data": {
      "text/plain": [
       "environ{'TERM_SESSION_ID': 'w1t0p0:A2B8CFE6-A3E2-4E09-9209-1014193D316B',\n",
       "        'SSH_AUTH_SOCK': '/private/tmp/com.apple.launchd.olEIgZg4DU/Listeners',\n",
       "        'LC_TERMINAL_VERSION': '3.4.19',\n",
       "        'COLORFGBG': '7;0',\n",
       "        'ITERM_PROFILE': 'Default',\n",
       "        'XPC_FLAGS': '0x0',\n",
       "        'LANG': 'en_US.UTF-8',\n",
       "        'PWD': '/Users/kevin/udemy/100_days_of_python',\n",
       "        'SHELL': '/bin/zsh',\n",
       "        '__CFBundleIdentifier': 'com.googlecode.iterm2',\n",
       "        'SECURITYSESSIONID': '186a5',\n",
       "        'TERM_PROGRAM_VERSION': '3.4.19',\n",
       "        'TERM_PROGRAM': 'iTerm.app',\n",
       "        'PATH': '/Applications/SnowSQL.app/Contents/MacOS:/Users/kevin/.pyenv/shims:/opt/homebrew/cellar/postgresql@12/12.11/bin:/usr/local/opt/postgresql@12/bin:/Users/kevin/google-cloud-sdk/bin:/Users/kevin/opt/anaconda3/bin:/Users/kevin/opt/anaconda3/condabin:/Users/kevin/google-cloud-sdk/bin:/usr/local/bin:/usr/bin:/bin:/usr/sbin:/sbin:/Users/kevin/.cargo/bin',\n",
       "        'LC_TERMINAL': 'iTerm2',\n",
       "        'COLORTERM': 'truecolor',\n",
       "        'COMMAND_MODE': 'unix2003',\n",
       "        'TERM': 'xterm-color',\n",
       "        'HOME': '/Users/kevin',\n",
       "        'TMPDIR': '/var/folders/jr/_j2skpfd5g7_d2b238xsn0sh0000gp/T/',\n",
       "        'USER': 'kevin',\n",
       "        'XPC_SERVICE_NAME': '0',\n",
       "        'LOGNAME': 'kevin',\n",
       "        'LaunchInstanceID': '50DAACAB-645F-4725-92DC-3FC989C342A4',\n",
       "        '__CF_USER_TEXT_ENCODING': '0x0:0:0',\n",
       "        'ITERM_SESSION_ID': 'w1t0p0:A2B8CFE6-A3E2-4E09-9209-1014193D316B',\n",
       "        'SHLVL': '1',\n",
       "        'OLDPWD': '/Users/kevin/udemy',\n",
       "        'ZSH': '/Users/kevin/.oh-my-zsh',\n",
       "        'PAGER': 'cat',\n",
       "        'LESS': '-R',\n",
       "        'LSCOLORS': 'Gxfxcxdxbxegedabagacad',\n",
       "        'CONDA_EXE': '/Users/kevin/opt/anaconda3/bin/conda',\n",
       "        '_CE_M': '',\n",
       "        '_CE_CONDA': '',\n",
       "        'CONDA_PYTHON_EXE': '/Users/kevin/opt/anaconda3/bin/python',\n",
       "        'CONDA_SHLVL': '1',\n",
       "        'CONDA_PREFIX': '/Users/kevin/opt/anaconda3',\n",
       "        'CONDA_DEFAULT_ENV': 'base',\n",
       "        'CONDA_PROMPT_MODIFIER': '(base) ',\n",
       "        'DOCKER_TLS_VERIFY': '1',\n",
       "        'DOCKER_HOST': 'tcp://192.168.64.51:2376',\n",
       "        'DOCKER_CERT_PATH': '/Users/kevin/.minikube/certs',\n",
       "        'MINIKUBE_ACTIVE_DOCKERD': 'minikube',\n",
       "        'PYENV_ROOT': '/Users/kevin/.pyenv',\n",
       "        'PYENV_SHELL': 'zsh',\n",
       "        '_': '/Users/kevin/opt/anaconda3/bin/jupyter',\n",
       "        'JPY_PARENT_PID': '12100',\n",
       "        'CLICOLOR': '1',\n",
       "        'GIT_PAGER': 'cat',\n",
       "        'MPLBACKEND': 'module://ipykernel.pylab.backend_inline'}"
      ]
     },
     "execution_count": 2,
     "metadata": {},
     "output_type": "execute_result"
    }
   ],
   "source": [
    "os.environ"
   ]
  },
  {
   "cell_type": "code",
   "execution_count": null,
   "id": "d3f6e74b-20f4-4ffc-a835-fdd8aee211dc",
   "metadata": {},
   "outputs": [],
   "source": []
  }
 ],
 "metadata": {
  "kernelspec": {
   "display_name": "Python 3",
   "language": "python",
   "name": "python3"
  },
  "language_info": {
   "codemirror_mode": {
    "name": "ipython",
    "version": 3
   },
   "file_extension": ".py",
   "mimetype": "text/x-python",
   "name": "python",
   "nbconvert_exporter": "python",
   "pygments_lexer": "ipython3",
   "version": "3.8.8"
  }
 },
 "nbformat": 4,
 "nbformat_minor": 5
}
